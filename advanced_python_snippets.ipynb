{
 "cells": [
  {
   "cell_type": "markdown",
   "metadata": {},
   "source": [
    "## Python Advanced Code Stuff from James Powell talks\n",
    "https://www.youtube.com/watch?v=L3j2qw9XZCchttps://www.youtube.com/watch?v=L3j2qw9XZCc"
   ]
  },
  {
   "cell_type": "code",
   "execution_count": 7,
   "metadata": {},
   "outputs": [],
   "source": [
    "from sys import meta_path\n",
    "from importlib import import_module\n",
    "from sys import modules"
   ]
  },
  {
   "cell_type": "markdown",
   "metadata": {},
   "source": [
    "### Path Hooks"
   ]
  },
  {
   "cell_type": "code",
   "execution_count": 8,
   "metadata": {},
   "outputs": [],
   "source": [
    "# The class will hook into modules import and check if the import spelling is correct or not and will correct according to the dictionary values in spellcheck\n",
    "class Hook:\n",
    "    spellcheck = {'maht': 'math',\n",
    "                    'randon': 'random'}\n",
    "    def find_module(self, module, _):\n",
    "        if module in self.spellcheck:\n",
    "            return self\n",
    "    def load_module(self, module):\n",
    "        modules[module] = import_module(self.spellcheck[module])\n",
    "        return modules[module]\n",
    "meta_path.clear()\n",
    "meta_path.append(Hook())"
   ]
  },
  {
   "cell_type": "code",
   "execution_count": 9,
   "metadata": {},
   "outputs": [
    {
     "output_type": "execute_result",
     "data": {
      "text/plain": "<function math.sin(x, /)>"
     },
     "metadata": {},
     "execution_count": 9
    }
   ],
   "source": [
    "import maht\n",
    "maht.sin"
   ]
  },
  {
   "cell_type": "code",
   "execution_count": 10,
   "metadata": {},
   "outputs": [
    {
     "output_type": "execute_result",
     "data": {
      "text/plain": "<function Random.random>"
     },
     "metadata": {},
     "execution_count": 10
    }
   ],
   "source": [
    "import randon\n",
    "randon.random"
   ]
  },
  {
   "cell_type": "markdown",
   "metadata": {},
   "source": [
    "### Custom Hook named rename Module"
   ]
  },
  {
   "cell_type": "code",
   "execution_count": 13,
   "metadata": {},
   "outputs": [],
   "source": [
    "from importlib import import_module\n",
    "from sys import modules\n",
    "from warnings import warn\n",
    "from datetime import date, timedelta\n",
    "from collections import namedtuple\n",
    "\n",
    "class RenameHook:\n",
    "    def __init__(self, registry):\n",
    "        self.registry = registry\n",
    "    \n",
    "    def find_module(self, fullname, path = None):\n",
    "        if fullname in self.registry:\n",
    "            entry = self.registry[fullname]\n",
    "            if len(entry) == 4:\n",
    "                warning_date, exception_date, new_name, old_name = entry\n",
    "            else:\n",
    "                warning_date = date.today()\n",
    "                exception_date = date.today() + timedelta(1)\n",
    "                new_name = entry\n",
    "            msg = ' '.join(['{} has been moved to {} as of {:%Y-%m-%d};',\n",
    "                            'it will no longer be available after {:%Y-%m-%d};',\n",
    "                            'Please update your imports'])\n",
    "            msg = msg.format(fullname, new_name, warning_date, exception_date)\n",
    "            if date.today() >= exception_date:\n",
    "                raise ImportError(msg)\n",
    "            elif date.today() >= warning_date:\n",
    "                warn(msg, DeprecationWarning)\n",
    "            return self\n",
    "\n",
    "    def load_module(self, fullname):\n",
    "        entry = self.registry[fullname]\n",
    "        if len(entry) == 4:\n",
    "            new_name = entry.new_name\n",
    "        else:\n",
    "            new_name = entry\n",
    "        mod = import_module(new_name)\n",
    "        modules[fullname] = mod\n",
    "        return mod\n",
    "\n",
    "RenamedModule = namedtuple('RenamedModule', 'from_date to_date new_name old_name')\n",
    "    \n",
    "if __name__ != '__main__':\n",
    "    registry = {'moth': RenamedModule(date(2019, 7, 1), date(2020, 7, 1), 'math', 'moth'),\n",
    "                'random': 'numpy.random',\n",
    "                'linalg': 'numpy.linalg'}\n",
    "\n",
    "    import sys\n",
    "    sys.meta_path = [RenameHook(registry)] + sys.meta_path\n",
    "         "
   ]
  },
  {
   "cell_type": "code",
   "execution_count": null,
   "metadata": {},
   "outputs": [],
   "source": [
    "print(\"ehllow\")"
   ]
  },
  {
   "cell_type": "code",
   "execution_count": null,
   "metadata": {},
   "outputs": [],
   "source": []
  }
 ],
 "metadata": {
  "language_info": {
   "codemirror_mode": {
    "name": "ipython",
    "version": 3
   },
   "file_extension": ".py",
   "mimetype": "text/x-python",
   "name": "python",
   "nbconvert_exporter": "python",
   "pygments_lexer": "ipython3",
   "version": 3
  },
  "orig_nbformat": 2,
  "kernelspec": {
   "name": "python_defaultSpec_1594945337503",
   "display_name": "Python 3.7.4 64-bit ('viswa': virtualenv)"
  }
 },
 "nbformat": 4,
 "nbformat_minor": 2
}